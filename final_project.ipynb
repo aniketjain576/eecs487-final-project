{
 "cells": [
  {
   "cell_type": "markdown",
   "id": "bored-graduation",
   "metadata": {},
   "source": [
    "# EECS 487 Final Project\n",
    "## Ideology Detection"
   ]
  },
  {
   "cell_type": "code",
   "execution_count": 1,
   "id": "angry-large",
   "metadata": {},
   "outputs": [],
   "source": [
    "%load_ext autoreload\n",
    "%autoreload 2\n",
    "\n",
    "import pickle\n",
    "\n",
    "import pandas as pd\n",
    "from sklearn.model_selection import train_test_split\n",
    "\n",
    "from ffnn import *\n",
    "from naive_bayes import *"
   ]
  },
  {
   "cell_type": "markdown",
   "id": "earlier-spank",
   "metadata": {},
   "source": [
    "## Load the Data"
   ]
  },
  {
   "cell_type": "code",
   "execution_count": 2,
   "id": "f99fcdac",
   "metadata": {},
   "outputs": [],
   "source": [
    "df = load_json()\n",
    "df = df.astype({'bias': 'int16'})"
   ]
  },
  {
   "cell_type": "code",
   "execution_count": 3,
   "id": "0aad4fe9",
   "metadata": {},
   "outputs": [],
   "source": [
    "train, validation = train_test_split(df, test_size=0.1)\n",
    "train, test = train_test_split(train, test_size=0.2)\n",
    "train, validation, test = train.reset_index(drop=True), validation.reset_index(drop=True), test.reset_index(drop=True)"
   ]
  },
  {
   "cell_type": "code",
   "execution_count": 4,
   "id": "08bc4068",
   "metadata": {},
   "outputs": [
    {
     "name": "stdout",
     "output_type": "stream",
     "text": [
      "Average number of token: 1097.0009246246025\n",
      "Standard deviation: 758.9292906502244\n",
      "Number of articles in each category: {0: 9402, 1: 7784, 2: 9852}\n"
     ]
    }
   ],
   "source": [
    "get_article_bias_stats(train)"
   ]
  },
  {
   "cell_type": "code",
   "execution_count": 5,
   "id": "80c47445",
   "metadata": {},
   "outputs": [
    {
     "name": "stdout",
     "output_type": "stream",
     "text": [
      "Average number of token: 1084.0034611288604\n",
      "Standard deviation: 704.5247763784831\n",
      "Number of articles in each category: {0: 1291, 1: 1080, 2: 1385}\n"
     ]
    }
   ],
   "source": [
    "get_article_bias_stats(validation)"
   ]
  },
  {
   "cell_type": "markdown",
   "id": "exterior-rental",
   "metadata": {},
   "source": [
    "## Naive Bayes"
   ]
  },
  {
   "cell_type": "code",
   "execution_count": 6,
   "id": "personalized-opening",
   "metadata": {
    "scrolled": true
   },
   "outputs": [
    {
     "name": "stdout",
     "output_type": "stream",
     "text": [
      "Probability for each category: [0.3477328204748872, 0.28789111620682, 0.36437606331829275]\n",
      "Total count for each category: [17179311, 12701196, 13401076]\n"
     ]
    }
   ],
   "source": [
    "naive_bayes = NaiveBayes()\n",
    "naive_bayes.fit(train)\n",
    "print(f\"Probability for each category: {naive_bayes.category_prob}\")\n",
    "print(f\"Total count for each category: {naive_bayes.total_count}\")"
   ]
  },
  {
   "cell_type": "code",
   "execution_count": 22,
   "id": "amended-angle",
   "metadata": {},
   "outputs": [
    {
     "name": "stdout",
     "output_type": "stream",
     "text": [
      "Accuracy: 0.6655325443786982\n",
      "Macro f1: 0.6627561809953031\n",
      "Micro f1: 0.6655325443786982\n"
     ]
    }
   ],
   "source": [
    "alpha = 0.5\n",
    "predictions = naive_bayes.predict(test.text.tolist(), alpha)\n",
    "labels = test.bias.tolist()\n",
    "accuracy, mac_f1, mic_f1 = evaluate(predictions, labels)\n",
    "print(f\"Accuracy: {accuracy}\")\n",
    "print(f\"Macro f1: {mac_f1}\")\n",
    "print(f\"Micro f1: {mic_f1}\")"
   ]
  },
  {
   "cell_type": "markdown",
   "id": "a84abfe7",
   "metadata": {},
   "source": [
    "# Feed Forward Neural Network"
   ]
  },
  {
   "cell_type": "code",
   "execution_count": 54,
   "id": "a5684143",
   "metadata": {},
   "outputs": [
    {
     "name": "stdout",
     "output_type": "stream",
     "text": [
      "(27038, 68433)\n"
     ]
    }
   ],
   "source": [
    "ffnn = FFNN('tfidf')\n",
    "\n",
    "trn_tfidf = ffnn.fit_tfidf_feature(train)\n",
    "print(trn_tfidf.shape)"
   ]
  },
  {
   "cell_type": "code",
   "execution_count": 57,
   "id": "bb871327",
   "metadata": {},
   "outputs": [
    {
     "name": "stderr",
     "output_type": "stream",
     "text": [
      "100%|██████████| 3/3 [1:35:40<00:00, 1913.53s/it]"
     ]
    },
    {
     "name": "stdout",
     "output_type": "stream",
     "text": [
      "{'layer_sizes': (100, 200), 'learning_rate': 0.01, 'alpha': 0.001}\n"
     ]
    },
    {
     "name": "stderr",
     "output_type": "stream",
     "text": [
      "\n"
     ]
    }
   ],
   "source": [
    "tfidf_hyperparameter = ffnn.cross_validation(trn_tfidf, train.bias)\n",
    "print(tfidf_hyperparameter)"
   ]
  },
  {
   "cell_type": "code",
   "execution_count": 58,
   "id": "510ec888",
   "metadata": {},
   "outputs": [
    {
     "data": {
      "text/plain": [
       "MLPClassifier(alpha=0.001, hidden_layer_sizes=(100, 200),\n",
       "              learning_rate_init=0.01, tol=0.1)"
      ]
     },
     "execution_count": 58,
     "metadata": {},
     "output_type": "execute_result"
    }
   ],
   "source": [
    "ffnn.fit(trn_tfidf, train.bias, tfidf_hyperparameter)\n",
    "ffnn.clf"
   ]
  },
  {
   "cell_type": "code",
   "execution_count": 61,
   "id": "61b12384",
   "metadata": {},
   "outputs": [
    {
     "name": "stdout",
     "output_type": "stream",
     "text": [
      "Accuracy: 0.6880177514792899\n",
      "f1: 0.6850134393221209\n"
     ]
    }
   ],
   "source": [
    "accuracy, f1 = ffnn.test_performance(test)\n",
    "print(\"Accuracy:\", accuracy)\n",
    "print(\"f1:\", f1)"
   ]
  },
  {
   "cell_type": "code",
   "execution_count": 62,
   "id": "5483adaa",
   "metadata": {},
   "outputs": [
    {
     "name": "stdout",
     "output_type": "stream",
     "text": [
      "[====----------------------------------------------] 9.4% 156.3/1662.8MB downloaded"
     ]
    },
    {
     "name": "stderr",
     "output_type": "stream",
     "text": [
      "IOPub message rate exceeded.\n",
      "The notebook server will temporarily stop sending output\n",
      "to the client in order to avoid crashing it.\n",
      "To change this limit, set the config variable\n",
      "`--NotebookApp.iopub_msg_rate_limit`.\n",
      "\n",
      "Current values:\n",
      "NotebookApp.iopub_msg_rate_limit=1000.0 (msgs/sec)\n",
      "NotebookApp.rate_limit_window=3.0 (secs)\n",
      "\n"
     ]
    },
    {
     "name": "stdout",
     "output_type": "stream",
     "text": [
      "[======--------------------------------------------] 12.8% 213.1/1662.8MB downloaded"
     ]
    },
    {
     "name": "stderr",
     "output_type": "stream",
     "text": [
      "IOPub message rate exceeded.\n",
      "The notebook server will temporarily stop sending output\n",
      "to the client in order to avoid crashing it.\n",
      "To change this limit, set the config variable\n",
      "`--NotebookApp.iopub_msg_rate_limit`.\n",
      "\n",
      "Current values:\n",
      "NotebookApp.iopub_msg_rate_limit=1000.0 (msgs/sec)\n",
      "NotebookApp.rate_limit_window=3.0 (secs)\n",
      "\n"
     ]
    },
    {
     "name": "stdout",
     "output_type": "stream",
     "text": [
      "[=================================================-] 98.8% 1642.8/1662.8MB downloaded\n",
      "[ 0.03956318  0.02092802  0.02915509  0.08028916 -0.05218758 -0.06083317\n",
      "  0.00092557 -0.07721347  0.08180851  0.05255482]\n"
     ]
    },
    {
     "data": {
      "text/plain": [
       "(27038, 300)"
      ]
     },
     "execution_count": 62,
     "metadata": {},
     "output_type": "execute_result"
    }
   ],
   "source": [
    "ffnn = FFNN('word2vec')\n",
    "\n",
    "trn_word2vec = ffnn.get_word2vec_feature(train)\n",
    "print(trn_word2vec[0, :10])\n",
    "trn_word2vec.shape"
   ]
  },
  {
   "cell_type": "code",
   "execution_count": 64,
   "id": "6137f995",
   "metadata": {},
   "outputs": [
    {
     "name": "stderr",
     "output_type": "stream",
     "text": [
      "100%|██████████| 3/3 [00:44<00:00, 14.87s/it]"
     ]
    },
    {
     "name": "stdout",
     "output_type": "stream",
     "text": [
      "{'layer_sizes': (100, 150), 'learning_rate': 0.001, 'alpha': 0.01}\n"
     ]
    },
    {
     "name": "stderr",
     "output_type": "stream",
     "text": [
      "\n"
     ]
    }
   ],
   "source": [
    "word2vec_hyperparameter = ffnn.cross_validation(trn_word2vec, train.bias)\n",
    "print(word2vec_hyperparameter)"
   ]
  },
  {
   "cell_type": "code",
   "execution_count": 66,
   "id": "722153df",
   "metadata": {},
   "outputs": [
    {
     "name": "stdout",
     "output_type": "stream",
     "text": [
      "MLPClassifier(alpha=0.01, hidden_layer_sizes=(100, 150), tol=0.1)\n",
      "Accuracy: 0.5701183431952662\n",
      "f1: 0.5702056626468497\n"
     ]
    }
   ],
   "source": [
    "ffnn.fit(trn_word2vec, train.bias, word2vec_hyperparameter)\n",
    "print(ffnn.clf)\n",
    "accuracy, f1 = ffnn.test_performance(test)\n",
    "print(\"Accuracy:\", accuracy)\n",
    "print(\"f1:\", f1)"
   ]
  }
 ],
 "metadata": {
  "kernelspec": {
   "display_name": "Python 3 (ipykernel)",
   "language": "python",
   "name": "python3"
  },
  "language_info": {
   "codemirror_mode": {
    "name": "ipython",
    "version": 3
   },
   "file_extension": ".py",
   "mimetype": "text/x-python",
   "name": "python",
   "nbconvert_exporter": "python",
   "pygments_lexer": "ipython3",
   "version": "3.9.7"
  }
 },
 "nbformat": 4,
 "nbformat_minor": 5
}
